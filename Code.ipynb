{
 "cells": [
  {
   "cell_type": "markdown",
   "metadata": {},
   "source": [
    "# Importing necesary libraries"
   ]
  },
  {
   "cell_type": "code",
   "execution_count": 1,
   "metadata": {},
   "outputs": [],
   "source": [
    "import numpy as np\n",
    "import pandas as pd\n",
    "import matplotlib.pyplot as plt\n",
    "from sklearn.model_selection import train_test_split\n",
    "from sklearn.neighbors import KNeighborsClassifier\n",
    "from sklearn.metrics import accuracy_score\n",
    "from sklearn.metrics import classification_report\n",
    "from sklearn.linear_model import LogisticRegression\n",
    "import warnings\n",
    "warnings.simplefilter(action='ignore', category=FutureWarning)\n",
    "from sklearn.naive_bayes import MultinomialNB\n",
    "from sklearn.svm import SVC\n",
    "import warnings\n",
    "warnings.filterwarnings(\"ignore\")\n",
    "from sklearn.tree import DecisionTreeClassifier\n",
    "from sklearn import tree\n",
    "from sklearn.ensemble import RandomForestClassifier\n",
    "from sklearn.preprocessing import StandardScaler"
   ]
  },
  {
   "cell_type": "markdown",
   "metadata": {},
   "source": [
    "# Loading and Analysing Data"
   ]
  },
  {
   "cell_type": "code",
   "execution_count": 2,
   "metadata": {},
   "outputs": [],
   "source": [
    "#This dataset was downloaded from Kaggle for educational purposes\n",
    "diab = pd.read_csv('diabetes.csv')"
   ]
  },
  {
   "cell_type": "code",
   "execution_count": 3,
   "metadata": {},
   "outputs": [
    {
     "data": {
      "text/html": [
       "<div>\n",
       "<style scoped>\n",
       "    .dataframe tbody tr th:only-of-type {\n",
       "        vertical-align: middle;\n",
       "    }\n",
       "\n",
       "    .dataframe tbody tr th {\n",
       "        vertical-align: top;\n",
       "    }\n",
       "\n",
       "    .dataframe thead th {\n",
       "        text-align: right;\n",
       "    }\n",
       "</style>\n",
       "<table border=\"1\" class=\"dataframe\">\n",
       "  <thead>\n",
       "    <tr style=\"text-align: right;\">\n",
       "      <th></th>\n",
       "      <th>Pregnancies</th>\n",
       "      <th>Glucose</th>\n",
       "      <th>BloodPressure</th>\n",
       "      <th>SkinThickness</th>\n",
       "      <th>Insulin</th>\n",
       "      <th>BMI</th>\n",
       "      <th>DiabetesPedigreeFunction</th>\n",
       "      <th>Age</th>\n",
       "      <th>Outcome</th>\n",
       "    </tr>\n",
       "  </thead>\n",
       "  <tbody>\n",
       "    <tr>\n",
       "      <td>count</td>\n",
       "      <td>768.000000</td>\n",
       "      <td>768.000000</td>\n",
       "      <td>768.000000</td>\n",
       "      <td>768.000000</td>\n",
       "      <td>768.000000</td>\n",
       "      <td>768.000000</td>\n",
       "      <td>768.000000</td>\n",
       "      <td>768.000000</td>\n",
       "      <td>768.000000</td>\n",
       "    </tr>\n",
       "    <tr>\n",
       "      <td>mean</td>\n",
       "      <td>3.845052</td>\n",
       "      <td>120.894531</td>\n",
       "      <td>69.105469</td>\n",
       "      <td>20.536458</td>\n",
       "      <td>79.799479</td>\n",
       "      <td>31.992578</td>\n",
       "      <td>0.471876</td>\n",
       "      <td>33.240885</td>\n",
       "      <td>0.348958</td>\n",
       "    </tr>\n",
       "    <tr>\n",
       "      <td>std</td>\n",
       "      <td>3.369578</td>\n",
       "      <td>31.972618</td>\n",
       "      <td>19.355807</td>\n",
       "      <td>15.952218</td>\n",
       "      <td>115.244002</td>\n",
       "      <td>7.884160</td>\n",
       "      <td>0.331329</td>\n",
       "      <td>11.760232</td>\n",
       "      <td>0.476951</td>\n",
       "    </tr>\n",
       "    <tr>\n",
       "      <td>min</td>\n",
       "      <td>0.000000</td>\n",
       "      <td>0.000000</td>\n",
       "      <td>0.000000</td>\n",
       "      <td>0.000000</td>\n",
       "      <td>0.000000</td>\n",
       "      <td>0.000000</td>\n",
       "      <td>0.078000</td>\n",
       "      <td>21.000000</td>\n",
       "      <td>0.000000</td>\n",
       "    </tr>\n",
       "    <tr>\n",
       "      <td>25%</td>\n",
       "      <td>1.000000</td>\n",
       "      <td>99.000000</td>\n",
       "      <td>62.000000</td>\n",
       "      <td>0.000000</td>\n",
       "      <td>0.000000</td>\n",
       "      <td>27.300000</td>\n",
       "      <td>0.243750</td>\n",
       "      <td>24.000000</td>\n",
       "      <td>0.000000</td>\n",
       "    </tr>\n",
       "    <tr>\n",
       "      <td>50%</td>\n",
       "      <td>3.000000</td>\n",
       "      <td>117.000000</td>\n",
       "      <td>72.000000</td>\n",
       "      <td>23.000000</td>\n",
       "      <td>30.500000</td>\n",
       "      <td>32.000000</td>\n",
       "      <td>0.372500</td>\n",
       "      <td>29.000000</td>\n",
       "      <td>0.000000</td>\n",
       "    </tr>\n",
       "    <tr>\n",
       "      <td>75%</td>\n",
       "      <td>6.000000</td>\n",
       "      <td>140.250000</td>\n",
       "      <td>80.000000</td>\n",
       "      <td>32.000000</td>\n",
       "      <td>127.250000</td>\n",
       "      <td>36.600000</td>\n",
       "      <td>0.626250</td>\n",
       "      <td>41.000000</td>\n",
       "      <td>1.000000</td>\n",
       "    </tr>\n",
       "    <tr>\n",
       "      <td>max</td>\n",
       "      <td>17.000000</td>\n",
       "      <td>199.000000</td>\n",
       "      <td>122.000000</td>\n",
       "      <td>99.000000</td>\n",
       "      <td>846.000000</td>\n",
       "      <td>67.100000</td>\n",
       "      <td>2.420000</td>\n",
       "      <td>81.000000</td>\n",
       "      <td>1.000000</td>\n",
       "    </tr>\n",
       "  </tbody>\n",
       "</table>\n",
       "</div>"
      ],
      "text/plain": [
       "       Pregnancies     Glucose  BloodPressure  SkinThickness     Insulin  \\\n",
       "count   768.000000  768.000000     768.000000     768.000000  768.000000   \n",
       "mean      3.845052  120.894531      69.105469      20.536458   79.799479   \n",
       "std       3.369578   31.972618      19.355807      15.952218  115.244002   \n",
       "min       0.000000    0.000000       0.000000       0.000000    0.000000   \n",
       "25%       1.000000   99.000000      62.000000       0.000000    0.000000   \n",
       "50%       3.000000  117.000000      72.000000      23.000000   30.500000   \n",
       "75%       6.000000  140.250000      80.000000      32.000000  127.250000   \n",
       "max      17.000000  199.000000     122.000000      99.000000  846.000000   \n",
       "\n",
       "              BMI  DiabetesPedigreeFunction         Age     Outcome  \n",
       "count  768.000000                768.000000  768.000000  768.000000  \n",
       "mean    31.992578                  0.471876   33.240885    0.348958  \n",
       "std      7.884160                  0.331329   11.760232    0.476951  \n",
       "min      0.000000                  0.078000   21.000000    0.000000  \n",
       "25%     27.300000                  0.243750   24.000000    0.000000  \n",
       "50%     32.000000                  0.372500   29.000000    0.000000  \n",
       "75%     36.600000                  0.626250   41.000000    1.000000  \n",
       "max     67.100000                  2.420000   81.000000    1.000000  "
      ]
     },
     "execution_count": 3,
     "metadata": {},
     "output_type": "execute_result"
    }
   ],
   "source": [
    "#Getting information about the dataset\n",
    "diab.describe()"
   ]
  },
  {
   "cell_type": "markdown",
   "metadata": {},
   "source": [
    "We can observe that some values in Glucose, BloodPressure etc. are Zero, which makes no sense"
   ]
  },
  {
   "cell_type": "code",
   "execution_count": 4,
   "metadata": {},
   "outputs": [
    {
     "data": {
      "text/plain": [
       "Pregnancies                   3.0000\n",
       "Glucose                     117.0000\n",
       "BloodPressure                72.0000\n",
       "SkinThickness                23.0000\n",
       "Insulin                      30.5000\n",
       "BMI                          32.0000\n",
       "DiabetesPedigreeFunction      0.3725\n",
       "Age                          29.0000\n",
       "Outcome                       0.0000\n",
       "dtype: float64"
      ]
     },
     "execution_count": 4,
     "metadata": {},
     "output_type": "execute_result"
    }
   ],
   "source": [
    "#Getting  median values of all featurs\n",
    "medians = diab.median()\n",
    "medians"
   ]
  },
  {
   "cell_type": "code",
   "execution_count": 5,
   "metadata": {},
   "outputs": [
    {
     "data": {
      "text/plain": [
       "(768, 9)"
      ]
     },
     "execution_count": 5,
     "metadata": {},
     "output_type": "execute_result"
    }
   ],
   "source": [
    "diab.shape"
   ]
  },
  {
   "cell_type": "markdown",
   "metadata": {},
   "source": [
    "Total number of samples are 768 and features are 9."
   ]
  },
  {
   "cell_type": "code",
   "execution_count": 6,
   "metadata": {},
   "outputs": [
    {
     "name": "stdout",
     "output_type": "stream",
     "text": [
      "<class 'pandas.core.frame.DataFrame'>\n",
      "RangeIndex: 768 entries, 0 to 767\n",
      "Data columns (total 9 columns):\n",
      "Pregnancies                 768 non-null int64\n",
      "Glucose                     768 non-null int64\n",
      "BloodPressure               768 non-null int64\n",
      "SkinThickness               768 non-null int64\n",
      "Insulin                     768 non-null int64\n",
      "BMI                         768 non-null float64\n",
      "DiabetesPedigreeFunction    768 non-null float64\n",
      "Age                         768 non-null int64\n",
      "Outcome                     768 non-null int64\n",
      "dtypes: float64(2), int64(7)\n",
      "memory usage: 54.1 KB\n"
     ]
    }
   ],
   "source": [
    "#Checking for null values\n",
    "diab.info()"
   ]
  },
  {
   "cell_type": "markdown",
   "metadata": {},
   "source": [
    "No null values are present"
   ]
  },
  {
   "cell_type": "code",
   "execution_count": 7,
   "metadata": {},
   "outputs": [
    {
     "data": {
      "text/html": [
       "<div>\n",
       "<style scoped>\n",
       "    .dataframe tbody tr th:only-of-type {\n",
       "        vertical-align: middle;\n",
       "    }\n",
       "\n",
       "    .dataframe tbody tr th {\n",
       "        vertical-align: top;\n",
       "    }\n",
       "\n",
       "    .dataframe thead th {\n",
       "        text-align: right;\n",
       "    }\n",
       "</style>\n",
       "<table border=\"1\" class=\"dataframe\">\n",
       "  <thead>\n",
       "    <tr style=\"text-align: right;\">\n",
       "      <th></th>\n",
       "      <th>Glucose</th>\n",
       "      <th>BloodPressure</th>\n",
       "      <th>SkinThickness</th>\n",
       "      <th>Insulin</th>\n",
       "      <th>BMI</th>\n",
       "      <th>DiabetesPedigreeFunction</th>\n",
       "      <th>Age</th>\n",
       "      <th>Pregnancies</th>\n",
       "      <th>Outcome</th>\n",
       "    </tr>\n",
       "  </thead>\n",
       "  <tbody>\n",
       "    <tr>\n",
       "      <td>count</td>\n",
       "      <td>768.000000</td>\n",
       "      <td>768.000000</td>\n",
       "      <td>768.000000</td>\n",
       "      <td>768.000000</td>\n",
       "      <td>768.000000</td>\n",
       "      <td>768.000000</td>\n",
       "      <td>768.000000</td>\n",
       "      <td>768.000000</td>\n",
       "      <td>768.000000</td>\n",
       "    </tr>\n",
       "    <tr>\n",
       "      <td>mean</td>\n",
       "      <td>121.656250</td>\n",
       "      <td>72.386719</td>\n",
       "      <td>27.334635</td>\n",
       "      <td>94.652344</td>\n",
       "      <td>32.450911</td>\n",
       "      <td>0.471876</td>\n",
       "      <td>33.240885</td>\n",
       "      <td>3.845052</td>\n",
       "      <td>0.348958</td>\n",
       "    </tr>\n",
       "    <tr>\n",
       "      <td>std</td>\n",
       "      <td>30.438286</td>\n",
       "      <td>12.096642</td>\n",
       "      <td>9.229014</td>\n",
       "      <td>105.547598</td>\n",
       "      <td>6.875366</td>\n",
       "      <td>0.331329</td>\n",
       "      <td>11.760232</td>\n",
       "      <td>3.369578</td>\n",
       "      <td>0.476951</td>\n",
       "    </tr>\n",
       "    <tr>\n",
       "      <td>min</td>\n",
       "      <td>44.000000</td>\n",
       "      <td>24.000000</td>\n",
       "      <td>7.000000</td>\n",
       "      <td>14.000000</td>\n",
       "      <td>18.200000</td>\n",
       "      <td>0.078000</td>\n",
       "      <td>21.000000</td>\n",
       "      <td>0.000000</td>\n",
       "      <td>0.000000</td>\n",
       "    </tr>\n",
       "    <tr>\n",
       "      <td>25%</td>\n",
       "      <td>99.750000</td>\n",
       "      <td>64.000000</td>\n",
       "      <td>23.000000</td>\n",
       "      <td>30.500000</td>\n",
       "      <td>27.500000</td>\n",
       "      <td>0.243750</td>\n",
       "      <td>24.000000</td>\n",
       "      <td>1.000000</td>\n",
       "      <td>0.000000</td>\n",
       "    </tr>\n",
       "    <tr>\n",
       "      <td>50%</td>\n",
       "      <td>117.000000</td>\n",
       "      <td>72.000000</td>\n",
       "      <td>23.000000</td>\n",
       "      <td>31.250000</td>\n",
       "      <td>32.000000</td>\n",
       "      <td>0.372500</td>\n",
       "      <td>29.000000</td>\n",
       "      <td>3.000000</td>\n",
       "      <td>0.000000</td>\n",
       "    </tr>\n",
       "    <tr>\n",
       "      <td>75%</td>\n",
       "      <td>140.250000</td>\n",
       "      <td>80.000000</td>\n",
       "      <td>32.000000</td>\n",
       "      <td>127.250000</td>\n",
       "      <td>36.600000</td>\n",
       "      <td>0.626250</td>\n",
       "      <td>41.000000</td>\n",
       "      <td>6.000000</td>\n",
       "      <td>1.000000</td>\n",
       "    </tr>\n",
       "    <tr>\n",
       "      <td>max</td>\n",
       "      <td>199.000000</td>\n",
       "      <td>122.000000</td>\n",
       "      <td>99.000000</td>\n",
       "      <td>846.000000</td>\n",
       "      <td>67.100000</td>\n",
       "      <td>2.420000</td>\n",
       "      <td>81.000000</td>\n",
       "      <td>17.000000</td>\n",
       "      <td>1.000000</td>\n",
       "    </tr>\n",
       "  </tbody>\n",
       "</table>\n",
       "</div>"
      ],
      "text/plain": [
       "          Glucose  BloodPressure  SkinThickness     Insulin         BMI  \\\n",
       "count  768.000000     768.000000     768.000000  768.000000  768.000000   \n",
       "mean   121.656250      72.386719      27.334635   94.652344   32.450911   \n",
       "std     30.438286      12.096642       9.229014  105.547598    6.875366   \n",
       "min     44.000000      24.000000       7.000000   14.000000   18.200000   \n",
       "25%     99.750000      64.000000      23.000000   30.500000   27.500000   \n",
       "50%    117.000000      72.000000      23.000000   31.250000   32.000000   \n",
       "75%    140.250000      80.000000      32.000000  127.250000   36.600000   \n",
       "max    199.000000     122.000000      99.000000  846.000000   67.100000   \n",
       "\n",
       "       DiabetesPedigreeFunction         Age  Pregnancies     Outcome  \n",
       "count                768.000000  768.000000   768.000000  768.000000  \n",
       "mean                   0.471876   33.240885     3.845052    0.348958  \n",
       "std                    0.331329   11.760232     3.369578    0.476951  \n",
       "min                    0.078000   21.000000     0.000000    0.000000  \n",
       "25%                    0.243750   24.000000     1.000000    0.000000  \n",
       "50%                    0.372500   29.000000     3.000000    0.000000  \n",
       "75%                    0.626250   41.000000     6.000000    1.000000  \n",
       "max                    2.420000   81.000000    17.000000    1.000000  "
      ]
     },
     "execution_count": 7,
     "metadata": {},
     "output_type": "execute_result"
    }
   ],
   "source": [
    "#Removing zero values in some columns using their respective median values\n",
    "temp = diab.drop(['Pregnancies','Outcome'],axis=1)\n",
    "final_diab = temp.replace(0,medians)\n",
    "final_diab['Pregnancies']=diab['Pregnancies']\n",
    "final_diab['Outcome'] = diab['Outcome']\n",
    "final_diab.describe()"
   ]
  },
  {
   "cell_type": "markdown",
   "metadata": {},
   "source": [
    "Hence we have removed zero entries in fields where they are not possible and filled them with the respective medians."
   ]
  },
  {
   "cell_type": "markdown",
   "metadata": {},
   "source": [
    "# Creating training and test data"
   ]
  },
  {
   "cell_type": "code",
   "execution_count": 8,
   "metadata": {},
   "outputs": [],
   "source": [
    "x = final_diab.drop('Outcome',axis=1)\n",
    "y = final_diab['Outcome']\n",
    "xtrain,xtest,ytrain,ytest = train_test_split(x,y,test_size=.3,random_state=5)"
   ]
  },
  {
   "cell_type": "markdown",
   "metadata": {},
   "source": [
    "# Applying KNN"
   ]
  },
  {
   "cell_type": "code",
   "execution_count": 9,
   "metadata": {},
   "outputs": [],
   "source": [
    "kn = KNeighborsClassifier()"
   ]
  },
  {
   "cell_type": "code",
   "execution_count": 10,
   "metadata": {},
   "outputs": [
    {
     "data": {
      "text/plain": [
       "KNeighborsClassifier(algorithm='auto', leaf_size=30, metric='minkowski',\n",
       "                     metric_params=None, n_jobs=None, n_neighbors=5, p=2,\n",
       "                     weights='uniform')"
      ]
     },
     "execution_count": 10,
     "metadata": {},
     "output_type": "execute_result"
    }
   ],
   "source": [
    "kn.fit(xtrain,ytrain)"
   ]
  },
  {
   "cell_type": "code",
   "execution_count": 11,
   "metadata": {},
   "outputs": [],
   "source": [
    "pred1 = kn.predict(xtest)"
   ]
  },
  {
   "cell_type": "code",
   "execution_count": 12,
   "metadata": {},
   "outputs": [
    {
     "data": {
      "text/plain": [
       "0.7575757575757576"
      ]
     },
     "execution_count": 12,
     "metadata": {},
     "output_type": "execute_result"
    }
   ],
   "source": [
    "accuracy_score(ytest,pred1)"
   ]
  },
  {
   "cell_type": "code",
   "execution_count": 13,
   "metadata": {},
   "outputs": [
    {
     "name": "stdout",
     "output_type": "stream",
     "text": [
      "              precision    recall  f1-score   support\n",
      "\n",
      "           0       0.85      0.79      0.82       160\n",
      "           1       0.59      0.69      0.64        71\n",
      "\n",
      "    accuracy                           0.76       231\n",
      "   macro avg       0.72      0.74      0.73       231\n",
      "weighted avg       0.77      0.76      0.76       231\n",
      "\n"
     ]
    }
   ],
   "source": [
    "print(classification_report(ytest,pred1))"
   ]
  },
  {
   "cell_type": "markdown",
   "metadata": {},
   "source": [
    "# Applying Logistic Regression"
   ]
  },
  {
   "cell_type": "code",
   "execution_count": 14,
   "metadata": {},
   "outputs": [],
   "source": [
    "lr = LogisticRegression()"
   ]
  },
  {
   "cell_type": "code",
   "execution_count": 15,
   "metadata": {},
   "outputs": [
    {
     "data": {
      "text/plain": [
       "LogisticRegression(C=1.0, class_weight=None, dual=False, fit_intercept=True,\n",
       "                   intercept_scaling=1, l1_ratio=None, max_iter=100,\n",
       "                   multi_class='warn', n_jobs=None, penalty='l2',\n",
       "                   random_state=None, solver='warn', tol=0.0001, verbose=0,\n",
       "                   warm_start=False)"
      ]
     },
     "execution_count": 15,
     "metadata": {},
     "output_type": "execute_result"
    }
   ],
   "source": [
    "lr.fit(xtrain,ytrain)"
   ]
  },
  {
   "cell_type": "code",
   "execution_count": 16,
   "metadata": {},
   "outputs": [],
   "source": [
    "pred2 = lr.predict(xtest)"
   ]
  },
  {
   "cell_type": "code",
   "execution_count": 17,
   "metadata": {},
   "outputs": [
    {
     "data": {
      "text/plain": [
       "0.7878787878787878"
      ]
     },
     "execution_count": 17,
     "metadata": {},
     "output_type": "execute_result"
    }
   ],
   "source": [
    "accuracy_score(pred2,ytest)"
   ]
  },
  {
   "cell_type": "code",
   "execution_count": 18,
   "metadata": {},
   "outputs": [
    {
     "name": "stdout",
     "output_type": "stream",
     "text": [
      "              precision    recall  f1-score   support\n",
      "\n",
      "           0       0.85      0.84      0.85       160\n",
      "           1       0.65      0.66      0.66        71\n",
      "\n",
      "    accuracy                           0.79       231\n",
      "   macro avg       0.75      0.75      0.75       231\n",
      "weighted avg       0.79      0.79      0.79       231\n",
      "\n"
     ]
    }
   ],
   "source": [
    "print(classification_report(ytest,pred2))"
   ]
  },
  {
   "cell_type": "markdown",
   "metadata": {},
   "source": [
    "# Applying Naive Bayes"
   ]
  },
  {
   "cell_type": "code",
   "execution_count": 19,
   "metadata": {},
   "outputs": [],
   "source": [
    "nb = MultinomialNB()"
   ]
  },
  {
   "cell_type": "code",
   "execution_count": 20,
   "metadata": {},
   "outputs": [
    {
     "data": {
      "text/plain": [
       "MultinomialNB(alpha=1.0, class_prior=None, fit_prior=True)"
      ]
     },
     "execution_count": 20,
     "metadata": {},
     "output_type": "execute_result"
    }
   ],
   "source": [
    "nb.fit(xtrain,ytrain)"
   ]
  },
  {
   "cell_type": "code",
   "execution_count": 21,
   "metadata": {},
   "outputs": [],
   "source": [
    "pred3 = nb.predict(xtest)"
   ]
  },
  {
   "cell_type": "code",
   "execution_count": 22,
   "metadata": {},
   "outputs": [
    {
     "data": {
      "text/plain": [
       "0.658008658008658"
      ]
     },
     "execution_count": 22,
     "metadata": {},
     "output_type": "execute_result"
    }
   ],
   "source": [
    "accuracy_score(pred3,ytest)"
   ]
  },
  {
   "cell_type": "code",
   "execution_count": 23,
   "metadata": {},
   "outputs": [
    {
     "name": "stdout",
     "output_type": "stream",
     "text": [
      "              precision    recall  f1-score   support\n",
      "\n",
      "           0       0.74      0.79      0.76       160\n",
      "           1       0.43      0.37      0.40        71\n",
      "\n",
      "    accuracy                           0.66       231\n",
      "   macro avg       0.59      0.58      0.58       231\n",
      "weighted avg       0.64      0.66      0.65       231\n",
      "\n"
     ]
    }
   ],
   "source": [
    "print(classification_report(ytest,pred3))"
   ]
  },
  {
   "cell_type": "markdown",
   "metadata": {},
   "source": [
    "# Applying SVC"
   ]
  },
  {
   "cell_type": "code",
   "execution_count": 24,
   "metadata": {},
   "outputs": [],
   "source": [
    "#assuming data is non-linear seperable\n",
    "sv1= SVC(kernel='rbf',gamma=10)"
   ]
  },
  {
   "cell_type": "code",
   "execution_count": 25,
   "metadata": {},
   "outputs": [
    {
     "data": {
      "text/plain": [
       "SVC(C=1.0, cache_size=200, class_weight=None, coef0=0.0,\n",
       "    decision_function_shape='ovr', degree=3, gamma=10, kernel='rbf',\n",
       "    max_iter=-1, probability=False, random_state=None, shrinking=True,\n",
       "    tol=0.001, verbose=False)"
      ]
     },
     "execution_count": 25,
     "metadata": {},
     "output_type": "execute_result"
    }
   ],
   "source": [
    "sv1.fit(xtrain,ytrain)"
   ]
  },
  {
   "cell_type": "code",
   "execution_count": 26,
   "metadata": {},
   "outputs": [],
   "source": [
    "pred4 = sv1.predict(xtest)"
   ]
  },
  {
   "cell_type": "code",
   "execution_count": 27,
   "metadata": {},
   "outputs": [
    {
     "data": {
      "text/plain": [
       "0.6926406926406926"
      ]
     },
     "execution_count": 27,
     "metadata": {},
     "output_type": "execute_result"
    }
   ],
   "source": [
    "accuracy_score(pred4,ytest)"
   ]
  },
  {
   "cell_type": "code",
   "execution_count": 28,
   "metadata": {},
   "outputs": [
    {
     "name": "stdout",
     "output_type": "stream",
     "text": [
      "              precision    recall  f1-score   support\n",
      "\n",
      "           0       0.69      1.00      0.82       160\n",
      "           1       0.00      0.00      0.00        71\n",
      "\n",
      "    accuracy                           0.69       231\n",
      "   macro avg       0.35      0.50      0.41       231\n",
      "weighted avg       0.48      0.69      0.57       231\n",
      "\n"
     ]
    }
   ],
   "source": [
    "print(classification_report(ytest,pred4))"
   ]
  },
  {
   "cell_type": "code",
   "execution_count": 29,
   "metadata": {},
   "outputs": [],
   "source": [
    "#assuming data is linear seperable\n",
    "sv2 = SVC(kernel='linear')"
   ]
  },
  {
   "cell_type": "code",
   "execution_count": 30,
   "metadata": {},
   "outputs": [
    {
     "data": {
      "text/plain": [
       "SVC(C=1.0, cache_size=200, class_weight=None, coef0=0.0,\n",
       "    decision_function_shape='ovr', degree=3, gamma='auto_deprecated',\n",
       "    kernel='linear', max_iter=-1, probability=False, random_state=None,\n",
       "    shrinking=True, tol=0.001, verbose=False)"
      ]
     },
     "execution_count": 30,
     "metadata": {},
     "output_type": "execute_result"
    }
   ],
   "source": [
    "sv2.fit(xtrain,ytrain)"
   ]
  },
  {
   "cell_type": "code",
   "execution_count": 31,
   "metadata": {},
   "outputs": [],
   "source": [
    "pred5 = sv2.predict(xtest)"
   ]
  },
  {
   "cell_type": "code",
   "execution_count": 32,
   "metadata": {},
   "outputs": [
    {
     "data": {
      "text/plain": [
       "0.7748917748917749"
      ]
     },
     "execution_count": 32,
     "metadata": {},
     "output_type": "execute_result"
    }
   ],
   "source": [
    "accuracy_score(pred5,ytest)"
   ]
  },
  {
   "cell_type": "code",
   "execution_count": 33,
   "metadata": {},
   "outputs": [
    {
     "name": "stdout",
     "output_type": "stream",
     "text": [
      "              precision    recall  f1-score   support\n",
      "\n",
      "           0       0.85      0.82      0.84       160\n",
      "           1       0.63      0.66      0.64        71\n",
      "\n",
      "    accuracy                           0.77       231\n",
      "   macro avg       0.74      0.74      0.74       231\n",
      "weighted avg       0.78      0.77      0.78       231\n",
      "\n"
     ]
    }
   ],
   "source": [
    "print(classification_report(ytest,pred5))"
   ]
  },
  {
   "cell_type": "markdown",
   "metadata": {},
   "source": [
    "# Applying Decision Tree"
   ]
  },
  {
   "cell_type": "code",
   "execution_count": 34,
   "metadata": {},
   "outputs": [],
   "source": [
    "dt =  DecisionTreeClassifier()"
   ]
  },
  {
   "cell_type": "code",
   "execution_count": 35,
   "metadata": {},
   "outputs": [
    {
     "data": {
      "text/plain": [
       "DecisionTreeClassifier(class_weight=None, criterion='gini', max_depth=None,\n",
       "                       max_features=None, max_leaf_nodes=None,\n",
       "                       min_impurity_decrease=0.0, min_impurity_split=None,\n",
       "                       min_samples_leaf=1, min_samples_split=2,\n",
       "                       min_weight_fraction_leaf=0.0, presort=False,\n",
       "                       random_state=None, splitter='best')"
      ]
     },
     "execution_count": 35,
     "metadata": {},
     "output_type": "execute_result"
    }
   ],
   "source": [
    "dt.fit(xtrain,ytrain)"
   ]
  },
  {
   "cell_type": "code",
   "execution_count": 36,
   "metadata": {},
   "outputs": [
    {
     "data": {
      "text/plain": [
       "0.6796536796536796"
      ]
     },
     "execution_count": 36,
     "metadata": {},
     "output_type": "execute_result"
    }
   ],
   "source": [
    "dt.score(xtest,ytest)"
   ]
  },
  {
   "cell_type": "code",
   "execution_count": 37,
   "metadata": {},
   "outputs": [
    {
     "data": {
      "text/plain": [
       "1.0"
      ]
     },
     "execution_count": 37,
     "metadata": {},
     "output_type": "execute_result"
    }
   ],
   "source": [
    "dt.score(xtrain,ytrain)"
   ]
  },
  {
   "cell_type": "code",
   "execution_count": 38,
   "metadata": {},
   "outputs": [
    {
     "data": {
      "text/plain": [
       "[Text(215.37958189655174, 211.4, 'X[0] <= 154.5\\ngini = 0.465\\nsamples = 537\\nvalue = [340, 197]'),\n",
       " Text(130.13185344827588, 199.32, 'X[6] <= 28.5\\ngini = 0.407\\nsamples = 458\\nvalue = [328, 130]'),\n",
       " Text(73.88689655172415, 187.24, 'X[4] <= 30.95\\ngini = 0.259\\nsamples = 249\\nvalue = [211, 38]'),\n",
       " Text(24.013241379310347, 175.16, 'X[7] <= 7.0\\ngini = 0.093\\nsamples = 123\\nvalue = [117, 6]'),\n",
       " Text(20.31889655172414, 163.07999999999998, 'X[0] <= 127.5\\ngini = 0.079\\nsamples = 122\\nvalue = [117, 5]'),\n",
       " Text(7.388689655172414, 151.0, 'X[5] <= 0.672\\ngini = 0.02\\nsamples = 101\\nvalue = [100, 1]'),\n",
       " Text(3.694344827586207, 138.92000000000002, 'gini = 0.0\\nsamples = 88\\nvalue = [88, 0]'),\n",
       " Text(11.083034482758622, 138.92000000000002, 'X[7] <= 2.5\\ngini = 0.142\\nsamples = 13\\nvalue = [12, 1]'),\n",
       " Text(7.388689655172414, 126.84, 'gini = 0.0\\nsamples = 12\\nvalue = [12, 0]'),\n",
       " Text(14.777379310344829, 126.84, 'gini = 0.0\\nsamples = 1\\nvalue = [0, 1]'),\n",
       " Text(33.24910344827587, 151.0, 'X[6] <= 24.5\\ngini = 0.308\\nsamples = 21\\nvalue = [17, 4]'),\n",
       " Text(25.86041379310345, 138.92000000000002, 'X[1] <= 56.0\\ngini = 0.124\\nsamples = 15\\nvalue = [14, 1]'),\n",
       " Text(22.166068965517244, 126.84, 'X[4] <= 27.15\\ngini = 0.5\\nsamples = 2\\nvalue = [1, 1]'),\n",
       " Text(18.471724137931037, 114.75999999999999, 'gini = 0.0\\nsamples = 1\\nvalue = [0, 1]'),\n",
       " Text(25.86041379310345, 114.75999999999999, 'gini = 0.0\\nsamples = 1\\nvalue = [1, 0]'),\n",
       " Text(29.554758620689658, 126.84, 'gini = 0.0\\nsamples = 13\\nvalue = [13, 0]'),\n",
       " Text(40.63779310344828, 138.92000000000002, 'X[1] <= 73.5\\ngini = 0.5\\nsamples = 6\\nvalue = [3, 3]'),\n",
       " Text(36.943448275862075, 126.84, 'gini = 0.0\\nsamples = 3\\nvalue = [0, 3]'),\n",
       " Text(44.33213793103449, 126.84, 'gini = 0.0\\nsamples = 3\\nvalue = [3, 0]'),\n",
       " Text(27.707586206896554, 163.07999999999998, 'gini = 0.0\\nsamples = 1\\nvalue = [0, 1]'),\n",
       " Text(123.76055172413794, 175.16, 'X[0] <= 124.5\\ngini = 0.379\\nsamples = 126\\nvalue = [94, 32]'),\n",
       " Text(99.7473103448276, 163.07999999999998, 'X[4] <= 45.4\\ngini = 0.307\\nsamples = 95\\nvalue = [77, 18]'),\n",
       " Text(81.27558620689656, 151.0, 'X[5] <= 0.501\\ngini = 0.275\\nsamples = 91\\nvalue = [76, 15]'),\n",
       " Text(55.41517241379311, 138.92000000000002, 'X[4] <= 31.1\\ngini = 0.158\\nsamples = 58\\nvalue = [53, 5]'),\n",
       " Text(51.7208275862069, 126.84, 'gini = 0.0\\nsamples = 1\\nvalue = [0, 1]'),\n",
       " Text(59.109517241379315, 126.84, 'X[5] <= 0.142\\ngini = 0.131\\nsamples = 57\\nvalue = [53, 4]'),\n",
       " Text(49.8736551724138, 114.75999999999999, 'X[0] <= 118.0\\ngini = 0.444\\nsamples = 6\\nvalue = [4, 2]'),\n",
       " Text(46.17931034482759, 102.67999999999999, 'gini = 0.0\\nsamples = 4\\nvalue = [4, 0]'),\n",
       " Text(53.568000000000005, 102.67999999999999, 'gini = 0.0\\nsamples = 2\\nvalue = [0, 2]'),\n",
       " Text(68.34537931034484, 114.75999999999999, 'X[4] <= 31.8\\ngini = 0.075\\nsamples = 51\\nvalue = [49, 2]'),\n",
       " Text(60.95668965517242, 102.67999999999999, 'X[3] <= 33.75\\ngini = 0.5\\nsamples = 2\\nvalue = [1, 1]'),\n",
       " Text(57.26234482758621, 90.6, 'gini = 0.0\\nsamples = 1\\nvalue = [0, 1]'),\n",
       " Text(64.65103448275863, 90.6, 'gini = 0.0\\nsamples = 1\\nvalue = [1, 0]'),\n",
       " Text(75.73406896551725, 102.67999999999999, 'X[1] <= 83.5\\ngini = 0.04\\nsamples = 49\\nvalue = [48, 1]'),\n",
       " Text(72.03972413793105, 90.6, 'gini = 0.0\\nsamples = 46\\nvalue = [46, 0]'),\n",
       " Text(79.42841379310346, 90.6, 'X[0] <= 89.5\\ngini = 0.444\\nsamples = 3\\nvalue = [2, 1]'),\n",
       " Text(75.73406896551725, 78.52000000000001, 'gini = 0.0\\nsamples = 2\\nvalue = [2, 0]'),\n",
       " Text(83.12275862068967, 78.52000000000001, 'gini = 0.0\\nsamples = 1\\nvalue = [0, 1]'),\n",
       " Text(107.13600000000001, 138.92000000000002, 'X[4] <= 32.65\\ngini = 0.422\\nsamples = 33\\nvalue = [23, 10]'),\n",
       " Text(103.4416551724138, 126.84, 'gini = 0.0\\nsamples = 8\\nvalue = [8, 0]'),\n",
       " Text(110.83034482758622, 126.84, 'X[7] <= 1.5\\ngini = 0.48\\nsamples = 25\\nvalue = [15, 10]'),\n",
       " Text(97.9001379310345, 114.75999999999999, 'X[4] <= 34.0\\ngini = 0.337\\nsamples = 14\\nvalue = [11, 3]'),\n",
       " Text(90.51144827586208, 102.67999999999999, 'X[6] <= 23.0\\ngini = 0.444\\nsamples = 3\\nvalue = [1, 2]'),\n",
       " Text(86.81710344827587, 90.6, 'gini = 0.0\\nsamples = 2\\nvalue = [0, 2]'),\n",
       " Text(94.20579310344829, 90.6, 'gini = 0.0\\nsamples = 1\\nvalue = [1, 0]'),\n",
       " Text(105.2888275862069, 102.67999999999999, 'X[5] <= 0.741\\ngini = 0.165\\nsamples = 11\\nvalue = [10, 1]'),\n",
       " Text(101.5944827586207, 90.6, 'gini = 0.0\\nsamples = 10\\nvalue = [10, 0]'),\n",
       " Text(108.98317241379311, 90.6, 'gini = 0.0\\nsamples = 1\\nvalue = [0, 1]'),\n",
       " Text(123.76055172413794, 114.75999999999999, 'X[0] <= 119.5\\ngini = 0.463\\nsamples = 11\\nvalue = [4, 7]'),\n",
       " Text(120.06620689655173, 102.67999999999999, 'X[1] <= 86.0\\ngini = 0.346\\nsamples = 9\\nvalue = [2, 7]'),\n",
       " Text(116.37186206896553, 90.6, 'X[4] <= 43.7\\ngini = 0.219\\nsamples = 8\\nvalue = [1, 7]'),\n",
       " Text(112.67751724137932, 78.52000000000001, 'gini = 0.0\\nsamples = 7\\nvalue = [0, 7]'),\n",
       " Text(120.06620689655173, 78.52000000000001, 'gini = 0.0\\nsamples = 1\\nvalue = [1, 0]'),\n",
       " Text(123.76055172413794, 90.6, 'gini = 0.0\\nsamples = 1\\nvalue = [1, 0]'),\n",
       " Text(127.45489655172415, 102.67999999999999, 'gini = 0.0\\nsamples = 2\\nvalue = [2, 0]'),\n",
       " Text(118.21903448275863, 151.0, 'X[1] <= 99.0\\ngini = 0.375\\nsamples = 4\\nvalue = [1, 3]'),\n",
       " Text(114.52468965517242, 138.92000000000002, 'gini = 0.0\\nsamples = 3\\nvalue = [0, 3]'),\n",
       " Text(121.91337931034484, 138.92000000000002, 'gini = 0.0\\nsamples = 1\\nvalue = [1, 0]'),\n",
       " Text(147.7737931034483, 163.07999999999998, 'X[3] <= 199.0\\ngini = 0.495\\nsamples = 31\\nvalue = [17, 14]'),\n",
       " Text(138.53793103448277, 151.0, 'X[5] <= 0.183\\ngini = 0.472\\nsamples = 21\\nvalue = [8, 13]'),\n",
       " Text(134.84358620689656, 138.92000000000002, 'gini = 0.0\\nsamples = 2\\nvalue = [2, 0]'),\n",
       " Text(142.23227586206897, 138.92000000000002, 'X[1] <= 75.0\\ngini = 0.432\\nsamples = 19\\nvalue = [6, 13]'),\n",
       " Text(134.84358620689656, 126.84, 'X[5] <= 1.017\\ngini = 0.18\\nsamples = 10\\nvalue = [1, 9]'),\n",
       " Text(131.14924137931035, 114.75999999999999, 'gini = 0.0\\nsamples = 9\\nvalue = [0, 9]'),\n",
       " Text(138.53793103448277, 114.75999999999999, 'gini = 0.0\\nsamples = 1\\nvalue = [1, 0]'),\n",
       " Text(149.6209655172414, 126.84, 'X[0] <= 130.5\\ngini = 0.494\\nsamples = 9\\nvalue = [5, 4]'),\n",
       " Text(145.92662068965518, 114.75999999999999, 'gini = 0.0\\nsamples = 2\\nvalue = [0, 2]'),\n",
       " Text(153.3153103448276, 114.75999999999999, 'X[4] <= 32.0\\ngini = 0.408\\nsamples = 7\\nvalue = [5, 2]'),\n",
       " Text(149.6209655172414, 102.67999999999999, 'gini = 0.0\\nsamples = 1\\nvalue = [0, 1]'),\n",
       " Text(157.0096551724138, 102.67999999999999, 'X[4] <= 47.7\\ngini = 0.278\\nsamples = 6\\nvalue = [5, 1]'),\n",
       " Text(153.3153103448276, 90.6, 'gini = 0.0\\nsamples = 5\\nvalue = [5, 0]'),\n",
       " Text(160.704, 90.6, 'gini = 0.0\\nsamples = 1\\nvalue = [0, 1]'),\n",
       " Text(157.0096551724138, 151.0, 'X[2] <= 41.5\\ngini = 0.18\\nsamples = 10\\nvalue = [9, 1]'),\n",
       " Text(153.3153103448276, 138.92000000000002, 'gini = 0.0\\nsamples = 8\\nvalue = [8, 0]'),\n",
       " Text(160.704, 138.92000000000002, 'X[5] <= 0.382\\ngini = 0.5\\nsamples = 2\\nvalue = [1, 1]'),\n",
       " Text(157.0096551724138, 126.84, 'gini = 0.0\\nsamples = 1\\nvalue = [0, 1]'),\n",
       " Text(164.39834482758621, 126.84, 'gini = 0.0\\nsamples = 1\\nvalue = [1, 0]'),\n",
       " Text(186.3768103448276, 187.24, 'X[0] <= 94.5\\ngini = 0.493\\nsamples = 209\\nvalue = [117, 92]'),\n",
       " Text(164.39834482758621, 175.16, 'X[5] <= 0.796\\ngini = 0.157\\nsamples = 35\\nvalue = [32, 3]'),\n",
       " Text(160.704, 163.07999999999998, 'gini = 0.0\\nsamples = 29\\nvalue = [29, 0]'),\n",
       " Text(168.09268965517242, 163.07999999999998, 'X[7] <= 3.0\\ngini = 0.5\\nsamples = 6\\nvalue = [3, 3]'),\n",
       " Text(164.39834482758621, 151.0, 'gini = 0.0\\nsamples = 3\\nvalue = [3, 0]'),\n",
       " Text(171.78703448275863, 151.0, 'gini = 0.0\\nsamples = 3\\nvalue = [0, 3]'),\n",
       " Text(208.355275862069, 175.16, 'X[4] <= 26.25\\ngini = 0.5\\nsamples = 174\\nvalue = [85, 89]'),\n",
       " Text(182.87006896551725, 163.07999999999998, 'X[0] <= 131.5\\ngini = 0.095\\nsamples = 20\\nvalue = [19, 1]'),\n",
       " Text(179.17572413793104, 151.0, 'gini = 0.0\\nsamples = 16\\nvalue = [16, 0]'),\n",
       " Text(186.56441379310345, 151.0, 'X[0] <= 135.5\\ngini = 0.375\\nsamples = 4\\nvalue = [3, 1]'),\n",
       " Text(182.87006896551725, 138.92000000000002, 'X[1] <= 73.0\\ngini = 0.5\\nsamples = 2\\nvalue = [1, 1]'),\n",
       " Text(179.17572413793104, 126.84, 'gini = 0.0\\nsamples = 1\\nvalue = [0, 1]'),\n",
       " Text(186.56441379310345, 126.84, 'gini = 0.0\\nsamples = 1\\nvalue = [1, 0]'),\n",
       " Text(190.25875862068966, 138.92000000000002, 'gini = 0.0\\nsamples = 2\\nvalue = [2, 0]'),\n",
       " Text(233.8404827586207, 163.07999999999998, 'X[6] <= 59.0\\ngini = 0.49\\nsamples = 154\\nvalue = [66, 88]'),\n",
       " Text(218.0817931034483, 151.0, 'X[2] <= 21.0\\ngini = 0.481\\nsamples = 144\\nvalue = [58, 86]'),\n",
       " Text(197.64744827586208, 138.92000000000002, 'X[5] <= 1.071\\ngini = 0.219\\nsamples = 8\\nvalue = [7, 1]'),\n",
       " Text(193.95310344827587, 126.84, 'gini = 0.0\\nsamples = 7\\nvalue = [7, 0]'),\n",
       " Text(201.34179310344828, 126.84, 'gini = 0.0\\nsamples = 1\\nvalue = [0, 1]'),\n",
       " Text(238.5161379310345, 138.92000000000002, 'X[5] <= 0.52\\ngini = 0.469\\nsamples = 136\\nvalue = [51, 85]'),\n",
       " Text(208.7304827586207, 126.84, 'X[2] <= 37.5\\ngini = 0.497\\nsamples = 85\\nvalue = [39, 46]'),\n",
       " Text(189.7969655172414, 114.75999999999999, 'X[7] <= 1.5\\ngini = 0.482\\nsamples = 74\\nvalue = [30, 44]'),\n",
       " Text(186.1026206896552, 102.67999999999999, 'gini = 0.0\\nsamples = 8\\nvalue = [0, 8]'),\n",
       " Text(193.4913103448276, 102.67999999999999, 'X[0] <= 116.0\\ngini = 0.496\\nsamples = 66\\nvalue = [30, 36]'),\n",
       " Text(174.096, 90.6, 'X[3] <= 187.0\\ngini = 0.403\\nsamples = 25\\nvalue = [7, 18]'),\n",
       " Text(170.4016551724138, 78.52000000000001, 'X[5] <= 0.252\\ngini = 0.34\\nsamples = 23\\nvalue = [5, 18]'),\n",
       " Text(157.4714482758621, 66.44, 'X[7] <= 5.5\\ngini = 0.5\\nsamples = 8\\nvalue = [4, 4]'),\n",
       " Text(150.08275862068967, 54.359999999999985, 'X[1] <= 69.0\\ngini = 0.375\\nsamples = 4\\nvalue = [3, 1]'),\n",
       " Text(146.38841379310347, 42.28, 'gini = 0.0\\nsamples = 1\\nvalue = [0, 1]'),\n",
       " Text(153.77710344827588, 42.28, 'gini = 0.0\\nsamples = 3\\nvalue = [3, 0]'),\n",
       " Text(164.8601379310345, 54.359999999999985, 'X[7] <= 11.5\\ngini = 0.375\\nsamples = 4\\nvalue = [1, 3]'),\n",
       " Text(161.1657931034483, 42.28, 'gini = 0.0\\nsamples = 3\\nvalue = [0, 3]'),\n",
       " Text(168.5544827586207, 42.28, 'gini = 0.0\\nsamples = 1\\nvalue = [1, 0]'),\n",
       " Text(183.33186206896553, 66.44, 'X[6] <= 29.5\\ngini = 0.124\\nsamples = 15\\nvalue = [1, 14]'),\n",
       " Text(179.63751724137933, 54.359999999999985, 'X[5] <= 0.383\\ngini = 0.5\\nsamples = 2\\nvalue = [1, 1]'),\n",
       " Text(175.94317241379312, 42.28, 'gini = 0.0\\nsamples = 1\\nvalue = [0, 1]'),\n",
       " Text(183.33186206896553, 42.28, 'gini = 0.0\\nsamples = 1\\nvalue = [1, 0]'),\n",
       " Text(187.02620689655174, 54.359999999999985, 'gini = 0.0\\nsamples = 13\\nvalue = [0, 13]'),\n",
       " Text(177.7903448275862, 78.52000000000001, 'gini = 0.0\\nsamples = 2\\nvalue = [2, 0]'),\n",
       " Text(212.8866206896552, 90.6, 'X[6] <= 50.5\\ngini = 0.493\\nsamples = 41\\nvalue = [23, 18]'),\n",
       " Text(209.19227586206898, 78.52000000000001, 'X[5] <= 0.241\\ngini = 0.47\\nsamples = 37\\nvalue = [23, 14]'),\n",
       " Text(198.10924137931036, 66.44, 'X[1] <= 75.0\\ngini = 0.473\\nsamples = 13\\nvalue = [5, 8]'),\n",
       " Text(194.41489655172415, 54.359999999999985, 'gini = 0.0\\nsamples = 7\\nvalue = [0, 7]'),\n",
       " Text(201.80358620689657, 54.359999999999985, 'X[3] <= 237.5\\ngini = 0.278\\nsamples = 6\\nvalue = [5, 1]'),\n",
       " Text(198.10924137931036, 42.28, 'gini = 0.0\\nsamples = 5\\nvalue = [5, 0]'),\n",
       " Text(205.49793103448278, 42.28, 'gini = 0.0\\nsamples = 1\\nvalue = [0, 1]'),\n",
       " Text(220.2753103448276, 66.44, 'X[4] <= 38.95\\ngini = 0.375\\nsamples = 24\\nvalue = [18, 6]'),\n",
       " Text(216.5809655172414, 54.359999999999985, 'X[7] <= 3.5\\ngini = 0.298\\nsamples = 22\\nvalue = [18, 4]'),\n",
       " Text(212.8866206896552, 42.28, 'gini = 0.0\\nsamples = 1\\nvalue = [0, 1]'),\n",
       " Text(220.2753103448276, 42.28, 'X[6] <= 41.5\\ngini = 0.245\\nsamples = 21\\nvalue = [18, 3]'),\n",
       " Text(212.8866206896552, 30.19999999999999, 'X[5] <= 0.275\\ngini = 0.111\\nsamples = 17\\nvalue = [16, 1]'),\n",
       " Text(209.19227586206898, 18.120000000000005, 'X[5] <= 0.264\\ngini = 0.245\\nsamples = 7\\nvalue = [6, 1]'),\n",
       " Text(205.49793103448278, 6.039999999999992, 'gini = 0.0\\nsamples = 6\\nvalue = [6, 0]'),\n",
       " Text(212.8866206896552, 6.039999999999992, 'gini = 0.0\\nsamples = 1\\nvalue = [0, 1]'),\n",
       " Text(216.5809655172414, 18.120000000000005, 'gini = 0.0\\nsamples = 10\\nvalue = [10, 0]'),\n",
       " Text(227.66400000000002, 30.19999999999999, 'X[0] <= 131.0\\ngini = 0.5\\nsamples = 4\\nvalue = [2, 2]'),\n",
       " Text(223.9696551724138, 18.120000000000005, 'gini = 0.0\\nsamples = 2\\nvalue = [2, 0]'),\n",
       " Text(231.35834482758622, 18.120000000000005, 'gini = 0.0\\nsamples = 2\\nvalue = [0, 2]'),\n",
       " Text(223.9696551724138, 54.359999999999985, 'gini = 0.0\\nsamples = 2\\nvalue = [0, 2]'),\n",
       " Text(216.5809655172414, 78.52000000000001, 'gini = 0.0\\nsamples = 4\\nvalue = [0, 4]'),\n",
       " Text(227.66400000000002, 114.75999999999999, 'X[6] <= 45.5\\ngini = 0.298\\nsamples = 11\\nvalue = [9, 2]'),\n",
       " Text(223.9696551724138, 102.67999999999999, 'X[1] <= 81.0\\ngini = 0.18\\nsamples = 10\\nvalue = [9, 1]'),\n",
       " Text(220.2753103448276, 90.6, 'gini = 0.0\\nsamples = 7\\nvalue = [7, 0]'),\n",
       " Text(227.66400000000002, 90.6, 'X[4] <= 33.5\\ngini = 0.444\\nsamples = 3\\nvalue = [2, 1]'),\n",
       " Text(223.9696551724138, 78.52000000000001, 'gini = 0.0\\nsamples = 2\\nvalue = [2, 0]'),\n",
       " Text(231.35834482758622, 78.52000000000001, 'gini = 0.0\\nsamples = 1\\nvalue = [0, 1]'),\n",
       " Text(231.35834482758622, 102.67999999999999, 'gini = 0.0\\nsamples = 1\\nvalue = [0, 1]'),\n",
       " Text(268.3017931034483, 126.84, 'X[0] <= 152.5\\ngini = 0.36\\nsamples = 51\\nvalue = [12, 39]'),\n",
       " Text(264.6074482758621, 114.75999999999999, 'X[2] <= 23.5\\ngini = 0.325\\nsamples = 49\\nvalue = [10, 39]'),\n",
       " Text(249.83006896551726, 102.67999999999999, 'X[7] <= 5.0\\ngini = 0.497\\nsamples = 13\\nvalue = [6, 7]'),\n",
       " Text(242.44137931034484, 90.6, 'X[6] <= 33.0\\ngini = 0.408\\nsamples = 7\\nvalue = [5, 2]'),\n",
       " Text(238.74703448275864, 78.52000000000001, 'X[5] <= 0.597\\ngini = 0.444\\nsamples = 3\\nvalue = [1, 2]'),\n",
       " Text(235.05268965517243, 66.44, 'gini = 0.0\\nsamples = 1\\nvalue = [1, 0]'),\n",
       " Text(242.44137931034484, 66.44, 'gini = 0.0\\nsamples = 2\\nvalue = [0, 2]'),\n",
       " Text(246.13572413793105, 78.52000000000001, 'gini = 0.0\\nsamples = 4\\nvalue = [4, 0]'),\n",
       " Text(257.2187586206897, 90.6, 'X[4] <= 37.8\\ngini = 0.278\\nsamples = 6\\nvalue = [1, 5]'),\n",
       " Text(253.52441379310346, 78.52000000000001, 'gini = 0.0\\nsamples = 5\\nvalue = [0, 5]'),\n",
       " Text(260.9131034482759, 78.52000000000001, 'gini = 0.0\\nsamples = 1\\nvalue = [1, 0]'),\n",
       " Text(279.38482758620694, 102.67999999999999, 'X[1] <= 67.0\\ngini = 0.198\\nsamples = 36\\nvalue = [4, 32]'),\n",
       " Text(271.9961379310345, 90.6, 'X[4] <= 34.9\\ngini = 0.48\\nsamples = 5\\nvalue = [3, 2]'),\n",
       " Text(268.3017931034483, 78.52000000000001, 'gini = 0.0\\nsamples = 3\\nvalue = [3, 0]'),\n",
       " Text(275.6904827586207, 78.52000000000001, 'gini = 0.0\\nsamples = 2\\nvalue = [0, 2]'),\n",
       " Text(286.77351724137935, 90.6, 'X[2] <= 54.5\\ngini = 0.062\\nsamples = 31\\nvalue = [1, 30]'),\n",
       " Text(283.0791724137931, 78.52000000000001, 'gini = 0.0\\nsamples = 30\\nvalue = [0, 30]'),\n",
       " Text(290.46786206896553, 78.52000000000001, 'gini = 0.0\\nsamples = 1\\nvalue = [1, 0]'),\n",
       " Text(271.9961379310345, 114.75999999999999, 'gini = 0.0\\nsamples = 2\\nvalue = [2, 0]'),\n",
       " Text(249.59917241379313, 151.0, 'X[0] <= 143.5\\ngini = 0.32\\nsamples = 10\\nvalue = [8, 2]'),\n",
       " Text(245.90482758620692, 138.92000000000002, 'gini = 0.0\\nsamples = 8\\nvalue = [8, 0]'),\n",
       " Text(253.29351724137933, 138.92000000000002, 'gini = 0.0\\nsamples = 2\\nvalue = [0, 2]'),\n",
       " Text(300.6273103448276, 199.32, 'X[0] <= 165.5\\ngini = 0.258\\nsamples = 79\\nvalue = [12, 67]'),\n",
       " Text(283.0791724137931, 187.24, 'X[5] <= 0.362\\ngini = 0.444\\nsamples = 27\\nvalue = [9, 18]'),\n",
       " Text(275.6904827586207, 175.16, 'X[1] <= 84.0\\ngini = 0.49\\nsamples = 14\\nvalue = [8, 6]'),\n",
       " Text(271.9961379310345, 163.07999999999998, 'X[0] <= 156.5\\ngini = 0.397\\nsamples = 11\\nvalue = [8, 3]'),\n",
       " Text(268.3017931034483, 151.0, 'gini = 0.0\\nsamples = 2\\nvalue = [0, 2]'),\n",
       " Text(275.6904827586207, 151.0, 'X[7] <= 5.5\\ngini = 0.198\\nsamples = 9\\nvalue = [8, 1]'),\n",
       " Text(271.9961379310345, 138.92000000000002, 'gini = 0.0\\nsamples = 7\\nvalue = [7, 0]'),\n",
       " Text(279.38482758620694, 138.92000000000002, 'X[0] <= 160.5\\ngini = 0.5\\nsamples = 2\\nvalue = [1, 1]'),\n",
       " Text(275.6904827586207, 126.84, 'gini = 0.0\\nsamples = 1\\nvalue = [1, 0]'),\n",
       " Text(283.0791724137931, 126.84, 'gini = 0.0\\nsamples = 1\\nvalue = [0, 1]'),\n",
       " Text(279.38482758620694, 163.07999999999998, 'gini = 0.0\\nsamples = 3\\nvalue = [0, 3]'),\n",
       " Text(290.46786206896553, 175.16, 'X[0] <= 164.5\\ngini = 0.142\\nsamples = 13\\nvalue = [1, 12]'),\n",
       " Text(286.77351724137935, 163.07999999999998, 'gini = 0.0\\nsamples = 12\\nvalue = [0, 12]'),\n",
       " Text(294.16220689655177, 163.07999999999998, 'gini = 0.0\\nsamples = 1\\nvalue = [1, 0]'),\n",
       " Text(318.1754482758621, 187.24, 'X[4] <= 46.1\\ngini = 0.109\\nsamples = 52\\nvalue = [3, 49]'),\n",
       " Text(308.9395862068966, 175.16, 'X[1] <= 100.0\\ngini = 0.077\\nsamples = 50\\nvalue = [2, 48]'),\n",
       " Text(301.5508965517242, 163.07999999999998, 'X[2] <= 16.0\\ngini = 0.041\\nsamples = 48\\nvalue = [1, 47]'),\n",
       " Text(297.85655172413794, 151.0, 'X[1] <= 69.0\\ngini = 0.375\\nsamples = 4\\nvalue = [1, 3]'),\n",
       " Text(294.16220689655177, 138.92000000000002, 'gini = 0.0\\nsamples = 1\\nvalue = [1, 0]'),\n",
       " Text(301.5508965517242, 138.92000000000002, 'gini = 0.0\\nsamples = 3\\nvalue = [0, 3]'),\n",
       " Text(305.24524137931036, 151.0, 'gini = 0.0\\nsamples = 44\\nvalue = [0, 44]'),\n",
       " Text(316.328275862069, 163.07999999999998, 'X[4] <= 36.95\\ngini = 0.5\\nsamples = 2\\nvalue = [1, 1]'),\n",
       " Text(312.63393103448277, 151.0, 'gini = 0.0\\nsamples = 1\\nvalue = [1, 0]'),\n",
       " Text(320.0226206896552, 151.0, 'gini = 0.0\\nsamples = 1\\nvalue = [0, 1]'),\n",
       " Text(327.4113103448276, 175.16, 'X[7] <= 4.0\\ngini = 0.5\\nsamples = 2\\nvalue = [1, 1]'),\n",
       " Text(323.7169655172414, 163.07999999999998, 'gini = 0.0\\nsamples = 1\\nvalue = [1, 0]'),\n",
       " Text(331.10565517241383, 163.07999999999998, 'gini = 0.0\\nsamples = 1\\nvalue = [0, 1]')]"
      ]
     },
     "execution_count": 38,
     "metadata": {},
     "output_type": "execute_result"
    },
    {
     "data": {
      "image/png": "[encoded data removed]",
      "text/plain": [
       "<Figure size 432x288 with 1 Axes>"
      ]
     },
     "metadata": {
      "needs_background": "light"
     },
     "output_type": "display_data"
    }
   ],
   "source": [
    "tree.plot_tree(dt)"
   ]
  },
  {
   "cell_type": "markdown",
   "metadata": {},
   "source": [
    "Hence we see that our model has overfitted because there were too many features"
   ]
  },
  {
   "cell_type": "markdown",
   "metadata": {},
   "source": [
    "# Applying Random Forest"
   ]
  },
  {
   "cell_type": "code",
   "execution_count": 63,
   "metadata": {},
   "outputs": [],
   "source": [
    "rf = RandomForestClassifier(n_estimators=15)"
   ]
  },
  {
   "cell_type": "code",
   "execution_count": 64,
   "metadata": {},
   "outputs": [
    {
     "data": {
      "text/plain": [
       "RandomForestClassifier(bootstrap=True, class_weight=None, criterion='gini',\n",
       "                       max_depth=None, max_features='auto', max_leaf_nodes=None,\n",
       "                       min_impurity_decrease=0.0, min_impurity_split=None,\n",
       "                       min_samples_leaf=1, min_samples_split=2,\n",
       "                       min_weight_fraction_leaf=0.0, n_estimators=15,\n",
       "                       n_jobs=None, oob_score=False, random_state=None,\n",
       "                       verbose=0, warm_start=False)"
      ]
     },
     "execution_count": 64,
     "metadata": {},
     "output_type": "execute_result"
    }
   ],
   "source": [
    "\n",
    "rf.fit(xtrain,ytrain)"
   ]
  },
  {
   "cell_type": "code",
   "execution_count": 65,
   "metadata": {},
   "outputs": [
    {
     "data": {
      "text/plain": [
       "0.994413407821229"
      ]
     },
     "execution_count": 65,
     "metadata": {},
     "output_type": "execute_result"
    }
   ],
   "source": [
    "rf.score(xtrain,ytrain)"
   ]
  },
  {
   "cell_type": "code",
   "execution_count": 66,
   "metadata": {},
   "outputs": [
    {
     "data": {
      "text/plain": [
       "0.7489177489177489"
      ]
     },
     "execution_count": 66,
     "metadata": {},
     "output_type": "execute_result"
    }
   ],
   "source": [
    "rf.score(xtest,ytest)"
   ]
  },
  {
   "cell_type": "code",
   "execution_count": null,
   "metadata": {},
   "outputs": [],
   "source": []
  }
 ],
 "metadata": {
  "kernelspec": {
   "display_name": "Python 3",
   "language": "python",
   "name": "python3"
  },
  "language_info": {
   "codemirror_mode": {
    "name": "ipython",
    "version": 3
   },
   "file_extension": ".py",
   "mimetype": "text/x-python",
   "name": "python",
   "nbconvert_exporter": "python",
   "pygments_lexer": "ipython3",
   "version": "3.7.4"
  }
 },
 "nbformat": 4,
 "nbformat_minor": 2
}
